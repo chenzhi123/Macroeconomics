{
 "cells": [
  {
   "cell_type": "code",
   "execution_count": null,
   "id": "7aa24db1",
   "metadata": {},
   "outputs": [],
   "source": [
    "\n",
    "import pandas as pd\n",
    "import matplotlib.pyplot as plt\n",
    "import seaborn as sns\n",
    "from sklearn.cluster import KMeans\n",
    "from sklearn.preprocessing import StandardScaler\n"
   ]
  },
  {
   "cell_type": "markdown",
   "id": "c71f0a4e",
   "metadata": {},
   "source": [
    "### 加载数据"
   ]
  },
  {
   "cell_type": "code",
   "execution_count": null,
   "id": "daeadbef",
   "metadata": {},
   "outputs": [],
   "source": [
    "\n",
    "# 请替换成你自己的CSV或Excel文件路径\n",
    "# 这里以假设的DataFrame为例\n",
    "# df = pd.read_csv('your_data.csv') \n",
    "# 注意如果是中文表头，记得加 encoding=\"utf-8-sig\" 或 gbk\n"
   ]
  },
  {
   "cell_type": "markdown",
   "id": "47e27282",
   "metadata": {},
   "source": [
    "## 1. 东中西东北板块社融走势比较"
   ]
  },
  {
   "cell_type": "code",
   "execution_count": null,
   "id": "f26dc9dc",
   "metadata": {},
   "outputs": [],
   "source": [
    "\n",
    "region_groups = {\n",
    "    \"东部\": [\"北京\", \"天津\", \"河北\", \"上海\", \"江苏\", \"浙江\", \"广东\", \"福建\", \"山东\", \"海南\"],\n",
    "    \"中部\": [\"山西\", \"安徽\", \"江西\", \"河南\", \"湖北\", \"湖南\"],\n",
    "    \"西部\": [\"内蒙古\", \"广西\", \"重庆\", \"四川\", \"贵州\", \"云南\", \"西藏\", \"陕西\", \"甘肃\", \"青海\", \"宁夏\", \"新疆\"],\n",
    "    \"东北\": [\"辽宁\", \"吉林\", \"黑龙江\"]\n",
    "}\n",
    "\n",
    "group_data = {}\n",
    "for group, provinces in region_groups.items():\n",
    "    common_provinces = [p for p in provinces if p in df.columns]\n",
    "    group_data[group] = df[common_provinces].sum(axis=1)\n",
    "\n",
    "group_df = pd.DataFrame(group_data)\n",
    "\n",
    "plt.figure(figsize=(12,8))\n",
    "for group in group_df.columns:\n",
    "    sns.lineplot(x=group_df.index, y=group_df[group], label=group, marker=\"o\")\n",
    "plt.title(\"东中西东北板块社融规模变化（2018-2024）\", fontsize=18)\n",
    "plt.xlabel(\"年份\", fontsize=14)\n",
    "plt.ylabel(\"社会融资规模总额（亿元）\", fontsize=14)\n",
    "plt.legend(title=\"板块\")\n",
    "plt.xticks(rotation=45)\n",
    "plt.tight_layout()\n",
    "plt.show()\n"
   ]
  },
  {
   "cell_type": "markdown",
   "id": "1d052359",
   "metadata": {},
   "source": [
    "## 2. 2018-2024年累计增长率分析"
   ]
  },
  {
   "cell_type": "code",
   "execution_count": null,
   "id": "b52fad42",
   "metadata": {},
   "outputs": [],
   "source": [
    "\n",
    "growth_rate = (df.loc[\"2024\"] - df.loc[\"2018\"]) / df.loc[\"2018\"] * 100\n",
    "growth_rate = growth_rate.sort_values(ascending=False)\n",
    "\n",
    "plt.figure(figsize=(14,10))\n",
    "sns.barplot(x=growth_rate.values, y=growth_rate.index, palette=\"coolwarm\")\n",
    "plt.title(\"2018-2024年社会融资规模累计增长率\", fontsize=18)\n",
    "plt.xlabel(\"增长率（%）\", fontsize=14)\n",
    "plt.ylabel(\"地区\", fontsize=14)\n",
    "plt.tight_layout()\n",
    "plt.show()\n",
    "\n",
    "print(\"增长率Top5:\")\n",
    "print(growth_rate.head())\n",
    "\n",
    "print(\"\\n增长率Bottom5:\")\n",
    "print(growth_rate.tail())\n"
   ]
  },
  {
   "cell_type": "markdown",
   "id": "67a75b5d",
   "metadata": {},
   "source": [
    "## 3. 2018-2024年波动性（标准差）分析"
   ]
  },
  {
   "cell_type": "code",
   "execution_count": null,
   "id": "14964ba1",
   "metadata": {},
   "outputs": [],
   "source": [
    "\n",
    "volatility = df.std()\n",
    "volatility = volatility.sort_values(ascending=False)\n",
    "\n",
    "plt.figure(figsize=(14,10))\n",
    "sns.barplot(x=volatility.values, y=volatility.index, palette=\"mako\")\n",
    "plt.title(\"2018-2024年社会融资规模波动性（标准差）\", fontsize=18)\n",
    "plt.xlabel(\"标准差\", fontsize=14)\n",
    "plt.ylabel(\"地区\", fontsize=14)\n",
    "plt.tight_layout()\n",
    "plt.show()\n",
    "\n",
    "print(\"波动性Top5:\")\n",
    "print(volatility.head())\n",
    "\n",
    "print(\"\\n波动性Bottom5:\")\n",
    "print(volatility.tail())\n"
   ]
  },
  {
   "cell_type": "markdown",
   "id": "b5d09220",
   "metadata": {},
   "source": [
    "## 4. 基于社融特征的聚类分析"
   ]
  },
  {
   "cell_type": "code",
   "execution_count": null,
   "id": "98135960",
   "metadata": {},
   "outputs": [],
   "source": [
    "\n",
    "X = df.T.values\n",
    "scaler = StandardScaler()\n",
    "X_scaled = scaler.fit_transform(X)\n",
    "\n",
    "kmeans = KMeans(n_clusters=4, random_state=0)\n",
    "clusters = kmeans.fit_predict(X_scaled)\n",
    "\n",
    "cluster_result = pd.DataFrame({\n",
    "    \"地区\": df.columns,\n",
    "    \"聚类类别\": clusters\n",
    "}).sort_values(\"聚类类别\")\n",
    "\n",
    "print(cluster_result)\n",
    "\n",
    "plt.figure(figsize=(12,8))\n",
    "sns.scatterplot(x=X_scaled[:,0], y=X_scaled[:,1], hue=clusters, palette=\"Set2\", s=100)\n",
    "for i, txt in enumerate(df.columns):\n",
    "    plt.annotate(txt, (X_scaled[i,0]+0.02, X_scaled[i,1]+0.02), fontsize=9)\n",
    "plt.title(\"各省社融特征聚类分布\", fontsize=18)\n",
    "plt.xlabel(\"特征1（标准化后）\")\n",
    "plt.ylabel(\"特征2（标准化后）\")\n",
    "plt.legend(title=\"类别\")\n",
    "plt.tight_layout()\n",
    "plt.show()\n"
   ]
  }
 ],
 "metadata": {},
 "nbformat": 4,
 "nbformat_minor": 5
}